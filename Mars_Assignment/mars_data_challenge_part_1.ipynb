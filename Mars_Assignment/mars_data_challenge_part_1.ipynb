{
 "cells": [
  {
   "cell_type": "code",
   "execution_count": 1,
   "id": "f86d1505",
   "metadata": {},
   "outputs": [],
   "source": [
    "# Import pandas, Splinter, BeautifulSoup, and ChromeDriverManager\n",
    "\n",
    "# ! pip install splinter\n",
    "import pandas as pd\n",
    "from bs4 import BeautifulSoup as soup\n",
    "from splinter import Browser\n",
    "from webdriver_manager.chrome import ChromeDriverManager\n"
   ]
  },
  {
   "cell_type": "code",
   "execution_count": 2,
   "id": "9fb6658a",
   "metadata": {},
   "outputs": [
    {
     "name": "stderr",
     "output_type": "stream",
     "text": [
      "[WDM] - Downloading: 100%|████████████████████████████████████████████████████████| 6.46M/6.46M [00:00<00:00, 29.5MB/s]\n"
     ]
    }
   ],
   "source": [
    "# Set up Splinter\n",
    "executable_path = {'executable_path': ChromeDriverManager().install()}\n",
    "browser = Browser('chrome', **executable_path, headless=False)"
   ]
  },
  {
   "cell_type": "code",
   "execution_count": 3,
   "id": "41065c33",
   "metadata": {},
   "outputs": [
    {
     "data": {
      "text/plain": [
       "True"
      ]
     },
     "execution_count": 3,
     "metadata": {},
     "output_type": "execute_result"
    }
   ],
   "source": [
    "# Visit the Mars NASA news site\n",
    "url = 'https://redplanetscience.com'\n",
    "browser.visit(url)\n",
    "\n",
    "# Optional delay for loading the page\n",
    "browser.is_element_present_by_css('div.list_text', wait_time=1)"
   ]
  },
  {
   "cell_type": "code",
   "execution_count": 4,
   "id": "8bed5396",
   "metadata": {},
   "outputs": [
    {
     "name": "stdout",
     "output_type": "stream",
     "text": [
      "\n",
      "November 8, 2022\n",
      "NASA's Treasure Map for Water Ice on Mars\n",
      "A new study identifies frozen water just below the Martian surface, where astronauts could easily dig it up.\n",
      "\n"
     ]
    }
   ],
   "source": [
    "# Conver the browser html to a soup object\n",
    "\n",
    "html = browser.html\n",
    "news_soup = soup(html, 'html.parser')\n",
    "slide_elem = news_soup.select_one('div.list_text')\n",
    "print (slide_elem.text)"
   ]
  },
  {
   "cell_type": "code",
   "execution_count": 5,
   "id": "0edda3a4",
   "metadata": {},
   "outputs": [
    {
     "name": "stdout",
     "output_type": "stream",
     "text": [
      "NASA's Treasure Map for Water Ice on Mars\n",
      "NASA InSight's 'Mole' Is Out of Sight\n",
      "Robotic Toolkit Added to NASA's Mars 2020 Rover\n",
      "NASA's Perseverance Rover Goes Through Trials by Fire, Ice, Light and Sound\n",
      "NASA Moves Forward With Campaign to Return Mars Samples to Earth\n",
      "Virginia Middle School Student Earns Honor of Naming NASA's Next Mars Rover\n",
      "NASA's Perseverance Rover Will Peer Beneath Mars' Surface \n",
      "From JPL's Mailroom to Mars and Beyond\n",
      "NASA's New Mars Rover Is Ready for Space Lasers\n",
      "Common Questions about InSight's 'Mole'\n",
      "NASA Updates Mars 2020 Mission Environmental Review\n",
      "NASA's Mars 2020 Rover Goes Coast-to-Coast to Prep for Launch\n",
      "NASA's New Mars Rover Will Use X-Rays to Hunt Fossils\n",
      "NASA's Mars Rover Drivers Need Your Help\n",
      "Two Rovers to Roll on Mars Again: Curiosity and Mars 2020\n"
     ]
    }
   ],
   "source": [
    "# Begin scraping titles\n",
    "\n",
    "titles = news_soup.find_all('div', class_='content_title')\n",
    "\n",
    "for title in titles:\n",
    "    print(title.text)\n"
   ]
  },
  {
   "cell_type": "code",
   "execution_count": 6,
   "id": "b1112d2c",
   "metadata": {},
   "outputs": [
    {
     "name": "stdout",
     "output_type": "stream",
     "text": [
      "A new study identifies frozen water just below the Martian surface, where astronauts could easily dig it up.\n",
      "Now that the heat probe is just below the Martian surface, InSight's arm will scoop some additional soil on top to help it keep digging so it can take Mars' temperature.\n",
      "The bit carousel, which lies at the heart of the rover's Sample Caching System, is now aboard NASA's newest rover. \n",
      "The agency's new Mars rover is put through a series of tests in vacuum chambers, acoustic chambers and more to get ready for the Red Planet.\n",
      "During this next phase, the program will mature critical technologies and make critical design decisions as well as assess industry partnerships.\n",
      "NASA chose a seventh-grader from Virginia as winner of the agency's \"Name the Rover\" essay contest. Alexander Mather's entry for \"Perseverance\" was voted tops among 28,000 entries. \n",
      "The agency's newest rover will use the first ground-penetrating radar instrument on the Martian surface to help search for signs of past microbial life. \n",
      "Bill Allen has thrived as the mechanical systems design lead for three Mars rover missions, but he got his start as a teenager sorting letters for the NASA center.\n",
      "Perseverance is one of a few Mars spacecraft carrying laser retroreflectors. The devices could provide new science and safer Mars landings in the future.\n",
      "The following Q&As with members of the team answer some of the most common questions about the burrowing device, part of a science instrument called the Heat Flow and Physical Properties Package (HP3).\n",
      "NASA and the Department of Energy have completed a more detailed risk analysis for the Mars 2020 rover launch from Florida.\n",
      "The agency's first step in returning rocks from Mars just arrived at Kennedy Space Center. The Mars 2020 team now begins readying for a launch to the Red Planet this July.\n",
      "PIXL, an instrument on the end of the Perseverance rover's arm, will search for chemical fingerprints left by ancient microbes.\n",
      "Using an online tool to label Martian terrain types, you can train an artificial intelligence algorithm that could improve the way engineers guide the Curiosity rover.\n",
      "They look like twins. But under the hood, the rover currently exploring the Red Planet and the one launching there this summer have distinct science tools and roles to play.\n"
     ]
    }
   ],
   "source": [
    "# Begin scraping pre-viewes\n",
    "\n",
    "previews = news_soup.find_all('div', class_='article_teaser_body')\n",
    "\n",
    "for preview in previews:\n",
    "    print(preview.text)"
   ]
  },
  {
   "cell_type": "code",
   "execution_count": 7,
   "id": "3c9f291e",
   "metadata": {},
   "outputs": [],
   "source": [
    "# Creating the List\n",
    "\n",
    "articles_list = []"
   ]
  },
  {
   "cell_type": "code",
   "execution_count": 8,
   "id": "2a5483cb",
   "metadata": {},
   "outputs": [],
   "source": [
    "articles = news_soup.find_all('div', class_='list_text')\n",
    "\n",
    "for article in articles:\n",
    "    title = article.find('div', class_='content_title')\n",
    "    preview = article.find('div', class_='article_teaser_body')\n",
    "   \n",
    "    title_dict = {\n",
    "        \"title\": title.text,\n",
    "        \"preview\": preview.text\n",
    "    }\n",
    "    articles_list.append(title_dict)\n",
    "    \n"
   ]
  },
  {
   "cell_type": "code",
   "execution_count": 35,
   "id": "54a63285",
   "metadata": {},
   "outputs": [
    {
     "data": {
      "text/plain": [
       "[{'title': \"Mars Helicopter Attached to NASA's Perseverance Rover\",\n",
       "  'preview': \"The team also fueled the rover's sky crane to get ready for this summer's history-making launch.\"},\n",
       " {'title': \"NASA's Perseverance Rover Bringing 3D-Printed Metal Parts to Mars\",\n",
       "  'preview': \"For hobbyists and makers, 3D printing expands creative possibilities; for specialized engineers, it's also key to next-generation spacecraft design.\"},\n",
       " {'title': 'With Mars Methane Mystery Unsolved, Curiosity Serves Scientists a New One: Oxygen',\n",
       "  'preview': 'For the first time in the history of space exploration, scientists have measured the seasonal changes in the gases that fill the air directly above the surface of Gale Crater on Mars. '},\n",
       " {'title': \"3 Things We've Learned From NASA's Mars InSight \",\n",
       "  'preview': 'Scientists are finding new mysteries since the geophysics mission landed two years ago.'},\n",
       " {'title': 'MAVEN Maps Electric Currents around Mars that are Fundamental to Atmospheric Loss',\n",
       "  'preview': 'Five years after NASA’s MAVEN spacecraft entered into orbit around Mars, data from the mission has led to the creation of a map of electric current systems in the Martian atmosphere.'},\n",
       " {'title': 'Naming a NASA Mars Rover Can Change Your Life',\n",
       "  'preview': 'Want to name the robotic scientist NASA is sending to Mars in 2020? The student who named Curiosity — the rover currently exploring Mars — will tell you this is an opportunity worth taking.'},\n",
       " {'title': 'The MarCO Mission Comes to an End',\n",
       "  'preview': 'The pair of briefcase-sized satellites made history when they sailed past Mars in 2019.'},\n",
       " {'title': 'Mars Is Getting a New Robotic Meteorologist',\n",
       "  'preview': \"Sensors on NASA's Perseverance will help prepare for future human exploration by taking weather measurements and studying dust particles.\"},\n",
       " {'title': 'NASA Establishes Board to Initially Review Mars Sample Return Plans',\n",
       "  'preview': 'The board will assist with analysis of current plans and goals for one of the most difficult missions humanity has ever undertaken.'},\n",
       " {'title': 'The Man Who Wanted to Fly on Mars',\n",
       "  'preview': \"The Mars Helicopter is riding to the Red Planet this summer with NASA's Perseverance rover. The helicopter's chief engineer, Bob Balaram, shares the saga of how it came into being.\"},\n",
       " {'title': 'My Culture, My Voice',\n",
       "  'preview': 'In honor of Hispanic Heritage Month, Christina Hernandez, an instrument engineer on the Mars 2020 mission, talks about her childhood and journey to NASA.'},\n",
       " {'title': 'MOXIE Could Help Future Rockets Launch Off Mars',\n",
       "  'preview': \"NASA's Perseverance rover carries a device to convert Martian air into oxygen that, if produced on a larger scale, could be used not just for breathing, but also for fuel.\"},\n",
       " {'title': \"NASA's MAVEN Maps Winds in the Martian Upper Atmosphere that Mirror the Terrain Below and Gives Clues to Martian Climate\",\n",
       "  'preview': 'Researchers have created the first map of wind circulation in the upper atmosphere of a planet besides Earth, using data from NASA’s MAVEN spacecraft that were collected during the last two years.'},\n",
       " {'title': \"A Martian Roundtrip: NASA's Perseverance Rover Sample Tubes\",\n",
       "  'preview': \"Marvels of engineering, the rover's sample tubes must be tough enough to safely bring Red Planet samples on the long journey back to Earth in immaculate condition. \"},\n",
       " {'title': \"NASA's Curiosity Mars Rover Snaps Its Highest-Resolution Panorama Yet\",\n",
       "  'preview': 'To go along with the stunning 1.8-billion-pixel image, a new video offers a sweeping view of the Red Planet.'}]"
      ]
     },
     "execution_count": 35,
     "metadata": {},
     "output_type": "execute_result"
    }
   ],
   "source": [
    "articles_list"
   ]
  },
  {
   "cell_type": "code",
   "execution_count": 9,
   "id": "66da4a9e",
   "metadata": {},
   "outputs": [],
   "source": [
    "# Quitting browser\n",
    "\n",
    "browser.quit()"
   ]
  },
  {
   "cell_type": "code",
   "execution_count": 10,
   "id": "daa35c9d",
   "metadata": {},
   "outputs": [],
   "source": [
    "#Export file to json\n",
    "\n",
    "import pandas as pd\n",
    "\n",
    "articles_df = pd.DataFrame(articles_list)"
   ]
  },
  {
   "cell_type": "code",
   "execution_count": 11,
   "id": "b504eb28",
   "metadata": {},
   "outputs": [
    {
     "data": {
      "text/html": [
       "<div>\n",
       "<style scoped>\n",
       "    .dataframe tbody tr th:only-of-type {\n",
       "        vertical-align: middle;\n",
       "    }\n",
       "\n",
       "    .dataframe tbody tr th {\n",
       "        vertical-align: top;\n",
       "    }\n",
       "\n",
       "    .dataframe thead th {\n",
       "        text-align: right;\n",
       "    }\n",
       "</style>\n",
       "<table border=\"1\" class=\"dataframe\">\n",
       "  <thead>\n",
       "    <tr style=\"text-align: right;\">\n",
       "      <th></th>\n",
       "      <th>title</th>\n",
       "      <th>preview</th>\n",
       "    </tr>\n",
       "  </thead>\n",
       "  <tbody>\n",
       "    <tr>\n",
       "      <th>0</th>\n",
       "      <td>NASA's Treasure Map for Water Ice on Mars</td>\n",
       "      <td>A new study identifies frozen water just below...</td>\n",
       "    </tr>\n",
       "    <tr>\n",
       "      <th>1</th>\n",
       "      <td>NASA InSight's 'Mole' Is Out of Sight</td>\n",
       "      <td>Now that the heat probe is just below the Mart...</td>\n",
       "    </tr>\n",
       "    <tr>\n",
       "      <th>2</th>\n",
       "      <td>Robotic Toolkit Added to NASA's Mars 2020 Rover</td>\n",
       "      <td>The bit carousel, which lies at the heart of t...</td>\n",
       "    </tr>\n",
       "    <tr>\n",
       "      <th>3</th>\n",
       "      <td>NASA's Perseverance Rover Goes Through Trials ...</td>\n",
       "      <td>The agency's new Mars rover is put through a s...</td>\n",
       "    </tr>\n",
       "    <tr>\n",
       "      <th>4</th>\n",
       "      <td>NASA Moves Forward With Campaign to Return Mar...</td>\n",
       "      <td>During this next phase, the program will matur...</td>\n",
       "    </tr>\n",
       "    <tr>\n",
       "      <th>5</th>\n",
       "      <td>Virginia Middle School Student Earns Honor of ...</td>\n",
       "      <td>NASA chose a seventh-grader from Virginia as w...</td>\n",
       "    </tr>\n",
       "    <tr>\n",
       "      <th>6</th>\n",
       "      <td>NASA's Perseverance Rover Will Peer Beneath Ma...</td>\n",
       "      <td>The agency's newest rover will use the first g...</td>\n",
       "    </tr>\n",
       "    <tr>\n",
       "      <th>7</th>\n",
       "      <td>From JPL's Mailroom to Mars and Beyond</td>\n",
       "      <td>Bill Allen has thrived as the mechanical syste...</td>\n",
       "    </tr>\n",
       "    <tr>\n",
       "      <th>8</th>\n",
       "      <td>NASA's New Mars Rover Is Ready for Space Lasers</td>\n",
       "      <td>Perseverance is one of a few Mars spacecraft c...</td>\n",
       "    </tr>\n",
       "    <tr>\n",
       "      <th>9</th>\n",
       "      <td>Common Questions about InSight's 'Mole'</td>\n",
       "      <td>The following Q&amp;As with members of the team an...</td>\n",
       "    </tr>\n",
       "    <tr>\n",
       "      <th>10</th>\n",
       "      <td>NASA Updates Mars 2020 Mission Environmental R...</td>\n",
       "      <td>NASA and the Department of Energy have complet...</td>\n",
       "    </tr>\n",
       "    <tr>\n",
       "      <th>11</th>\n",
       "      <td>NASA's Mars 2020 Rover Goes Coast-to-Coast to ...</td>\n",
       "      <td>The agency's first step in returning rocks fro...</td>\n",
       "    </tr>\n",
       "    <tr>\n",
       "      <th>12</th>\n",
       "      <td>NASA's New Mars Rover Will Use X-Rays to Hunt ...</td>\n",
       "      <td>PIXL, an instrument on the end of the Persever...</td>\n",
       "    </tr>\n",
       "    <tr>\n",
       "      <th>13</th>\n",
       "      <td>NASA's Mars Rover Drivers Need Your Help</td>\n",
       "      <td>Using an online tool to label Martian terrain ...</td>\n",
       "    </tr>\n",
       "    <tr>\n",
       "      <th>14</th>\n",
       "      <td>Two Rovers to Roll on Mars Again: Curiosity an...</td>\n",
       "      <td>They look like twins. But under the hood, the ...</td>\n",
       "    </tr>\n",
       "  </tbody>\n",
       "</table>\n",
       "</div>"
      ],
      "text/plain": [
       "                                                title  \\\n",
       "0           NASA's Treasure Map for Water Ice on Mars   \n",
       "1               NASA InSight's 'Mole' Is Out of Sight   \n",
       "2     Robotic Toolkit Added to NASA's Mars 2020 Rover   \n",
       "3   NASA's Perseverance Rover Goes Through Trials ...   \n",
       "4   NASA Moves Forward With Campaign to Return Mar...   \n",
       "5   Virginia Middle School Student Earns Honor of ...   \n",
       "6   NASA's Perseverance Rover Will Peer Beneath Ma...   \n",
       "7              From JPL's Mailroom to Mars and Beyond   \n",
       "8     NASA's New Mars Rover Is Ready for Space Lasers   \n",
       "9             Common Questions about InSight's 'Mole'   \n",
       "10  NASA Updates Mars 2020 Mission Environmental R...   \n",
       "11  NASA's Mars 2020 Rover Goes Coast-to-Coast to ...   \n",
       "12  NASA's New Mars Rover Will Use X-Rays to Hunt ...   \n",
       "13           NASA's Mars Rover Drivers Need Your Help   \n",
       "14  Two Rovers to Roll on Mars Again: Curiosity an...   \n",
       "\n",
       "                                              preview  \n",
       "0   A new study identifies frozen water just below...  \n",
       "1   Now that the heat probe is just below the Mart...  \n",
       "2   The bit carousel, which lies at the heart of t...  \n",
       "3   The agency's new Mars rover is put through a s...  \n",
       "4   During this next phase, the program will matur...  \n",
       "5   NASA chose a seventh-grader from Virginia as w...  \n",
       "6   The agency's newest rover will use the first g...  \n",
       "7   Bill Allen has thrived as the mechanical syste...  \n",
       "8   Perseverance is one of a few Mars spacecraft c...  \n",
       "9   The following Q&As with members of the team an...  \n",
       "10  NASA and the Department of Energy have complet...  \n",
       "11  The agency's first step in returning rocks fro...  \n",
       "12  PIXL, an instrument on the end of the Persever...  \n",
       "13  Using an online tool to label Martian terrain ...  \n",
       "14  They look like twins. But under the hood, the ...  "
      ]
     },
     "execution_count": 11,
     "metadata": {},
     "output_type": "execute_result"
    }
   ],
   "source": [
    "\n",
    "articles_df"
   ]
  },
  {
   "cell_type": "code",
   "execution_count": 14,
   "id": "801d9962",
   "metadata": {},
   "outputs": [],
   "source": [
    "articles_df.to_json(\"Mars_part1_challenge.json\")"
   ]
  },
  {
   "cell_type": "code",
   "execution_count": null,
   "id": "e4ad8a0a",
   "metadata": {},
   "outputs": [],
   "source": []
  }
 ],
 "metadata": {
  "kernelspec": {
   "display_name": "Python 3 (ipykernel)",
   "language": "python",
   "name": "python3"
  },
  "language_info": {
   "codemirror_mode": {
    "name": "ipython",
    "version": 3
   },
   "file_extension": ".py",
   "mimetype": "text/x-python",
   "name": "python",
   "nbconvert_exporter": "python",
   "pygments_lexer": "ipython3",
   "version": "3.7.13"
  }
 },
 "nbformat": 4,
 "nbformat_minor": 5
}
